{
 "cells": [
  {
   "cell_type": "markdown",
   "metadata": {},
   "source": [
    "# Rename and Merge"
   ]
  },
  {
   "cell_type": "markdown",
   "metadata": {},
   "source": [
    "Now that we have two aggregated dataframes for Comments and Answers that map to a Question, our final statistical challenge is to merge these two dataframes, combine the scores and find the questions with the highest aggregate scores overall. Note that there are two key problems to overcome, firstly one dataframe uses the column header 'ParentId' while the other uses 'PostId'. So we should rename 'ParentId' to 'PostId' in the Answers dataframe. The second problem is that both dataframes have the column 'Score'. But we can't have two columns in a single dataframe with the same key. So we should rename them to 'Answers-Score' and 'Comments-Score'. Once this is done, we can merge the two datafraes by PostId and create a new column called 'Total-Score' which contains the sum of the other two Score Columns. Once we have everything in place, we can sort based on Total-Score, and write out our new dataframe, along with a dump of the PostIds and Total Scores to a text file for a sanity check."
   ]
  },
  {
   "cell_type": "markdown",
   "metadata": {},
   "source": [
    "### Read a feather file and return a dataframe. This is already done for you. You just have to call it from main to convert a feather file into a dataframe."
   ]
  },
  {
   "cell_type": "code",
   "execution_count": 1,
   "metadata": {},
   "outputs": [],
   "source": [
    "import pyarrow.feather as feather\n",
    "import pandas as pd"
   ]
  },
  {
   "cell_type": "code",
   "execution_count": 2,
   "metadata": {},
   "outputs": [],
   "source": [
    "def arrow_to_df(input_file_name):\n",
    "    df = feather.read_feather(input_file_name)\n",
    "    return df"
   ]
  },
  {
   "cell_type": "markdown",
   "metadata": {},
   "source": [
    "### Write a feather file using a dataframe. This is done for you, you just need to call it."
   ]
  },
  {
   "cell_type": "code",
   "execution_count": 3,
   "metadata": {},
   "outputs": [],
   "source": [
    "def df_to_arrow(output_file_name, df):\n",
    "    feather.write_feather(df, output_file_name, compression='zstd')\n",
    "    return"
   ]
  },
  {
   "cell_type": "markdown",
   "metadata": {},
   "source": [
    "### This function will write out only the PostId and Total-Score columns from a dataframe. This assumes of course that you have named the columns correctly!"
   ]
  },
  {
   "cell_type": "code",
   "execution_count": 4,
   "metadata": {},
   "outputs": [],
   "source": [
    "def write_total_scores(df,out_file):\n",
    "    with open(out_file,'w') as f:\n",
    "        fdf = df[['PostId','Total-Score']].copy()\n",
    "        f.write(fdf.to_string(index=False))\n",
    "        return\n",
    "        "
   ]
  },
  {
   "cell_type": "markdown",
   "metadata": {},
   "source": [
    "### The sort function from Question 2."
   ]
  },
  {
   "cell_type": "code",
   "execution_count": 5,
   "metadata": {},
   "outputs": [],
   "source": [
    "def sort_df (df,key):\n",
    "    new_df = df.sort_values(by=[key],ascending=False ,ignore_index=True)\n",
    "    \n",
    "    return new_df"
   ]
  },
  {
   "cell_type": "markdown",
   "metadata": {},
   "source": [
    "### Main Loop:\n",
    "* First read the Answers-Sum.feather and Comments-Sum.feather files into dataframes using the provided function.\n",
    "* Now rename the columns as defined in the header above.\n",
    "* Once the header names are correct, you can merge based on 'PostId'.\n",
    "* Then, you can create a new column called 'Total-Score' that is the sum of the other two Score columns.\n",
    "* Sort the new dataframe using the sort function from Q2 based on 'Total-Score'.\n",
    "* Finally, you need to write_total_scores() for the new dataframe. The output file name should be \"Posts-Total-Scores.txt\". This will by our sanity check that you got the split function correct. Make sure you use the output file names exactly as shown (case sensitive).\n",
    "* We do not need to write out the final merged dataframe as a feather file as we won't need it for the final challenge."
   ]
  },
  {
   "cell_type": "code",
   "execution_count": 6,
   "metadata": {},
   "outputs": [],
   "source": [
    "\n",
    "def main():\n",
    "    \n",
    "    #Read Ans-sum and Comments-sum to dataframes\n",
    "    sum_ans = arrow_to_df('Answers-Sum.feather')\n",
    "    sum_comms = arrow_to_df('Comments-Sum.feather')\n",
    "    \n",
    "    #Re-naming columns\n",
    "    sum_ans =sum_ans.rename(columns={'Score':'Answers-Score'})\n",
    "    sum_ans =sum_ans.rename(columns={'ParentId':'PostId'})\n",
    "    sum_comms = sum_comms.rename(columns={'Score':'Comments-Score'})\n",
    "    \n",
    "    #Merging based on PostId\n",
    "    merge_df =pd.merge(sum_ans,sum_comms,on='PostId')\n",
    "    \n",
    "    #Sum of comment-score + Answer-score\n",
    "    merge_df['Total-Score'] =  merge_df['Comments-Score']+ merge_df['Answers-Score']\n",
    "    \n",
    "    #Soring done based on Total-Score\n",
    "    sort_df(merge_df,'Total-Score')\n",
    "    \n",
    "    #output final file\n",
    "    write_total_scores(merge_df,'Posts-Total-Scores.txt')\n",
    "    return"
   ]
  },
  {
   "cell_type": "code",
   "execution_count": 7,
   "metadata": {},
   "outputs": [
    {
     "name": "stdout",
     "output_type": "stream",
     "text": [
      "[INFO]:Script completed with no errors\n"
     ]
    }
   ],
   "source": [
    "\n",
    "if __name__ == '__main__':\n",
    "    main()\n",
    "    print ('[INFO]:Script completed with no errors')"
   ]
  }
 ],
 "metadata": {
  "kernelspec": {
   "display_name": "Python 3",
   "language": "python",
   "name": "python3"
  },
  "language_info": {
   "codemirror_mode": {
    "name": "ipython",
    "version": 3
   },
   "file_extension": ".py",
   "mimetype": "text/x-python",
   "name": "python",
   "nbconvert_exporter": "python",
   "pygments_lexer": "ipython3",
   "version": "3.8.5"
  }
 },
 "nbformat": 4,
 "nbformat_minor": 5
}
