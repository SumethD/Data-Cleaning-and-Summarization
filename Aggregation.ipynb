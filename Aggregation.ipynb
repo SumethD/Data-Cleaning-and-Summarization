{
 "cells": [
  {
   "cell_type": "markdown",
   "metadata": {},
   "source": [
    "# Aggregation"
   ]
  },
  {
   "cell_type": "markdown",
   "metadata": {},
   "source": [
    "Now that we have several of our dataframes properly sorted, our next goal is to generate some useful information based on the scores. Specifically, we want to Load our Comments-Sorted.feather and Questions-Sorted.feather files, and aggregate the scores based on the 'PostId' and 'ParentId' columns respectively. The key idea is to determine the total score for Answers and Comments for a particular Question (Parent). We will then save these new dataframes for the next exercise and write out the top 10 results for the two new dataframes to prove that we got the right answer. Hint, we will need to resort the two dataframes again after the aggregation using the sort function from the previous exercise using the new aggregate column we create."
   ]
  },
  {
   "cell_type": "markdown",
   "metadata": {},
   "source": [
    "### Read a feather file and return a dataframe. This is already done for you. You just have to call it from main to convert a feather file into a dataframe."
   ]
  },
  {
   "cell_type": "code",
   "execution_count": 1,
   "metadata": {},
   "outputs": [],
   "source": [
    "import pyarrow.feather as feather\n",
    "import pandas as pd"
   ]
  },
  {
   "cell_type": "code",
   "execution_count": 2,
   "metadata": {},
   "outputs": [],
   "source": [
    "def arrow_to_df(input_file_name):\n",
    "    df = feather.read_feather(input_file_name)\n",
    "    return df"
   ]
  },
  {
   "cell_type": "markdown",
   "metadata": {},
   "source": [
    "### Write a feather file using a dataframe. This is done for you, you just need to call it."
   ]
  },
  {
   "cell_type": "code",
   "execution_count": 3,
   "metadata": {},
   "outputs": [],
   "source": [
    "def df_to_arrow(output_file_name, df):\n",
    "    feather.write_feather(df, output_file_name, compression='zstd')\n",
    "    return"
   ]
  },
  {
   "cell_type": "markdown",
   "metadata": {},
   "source": [
    "### This function will write the top ten items from a dataframe to a file. You simply need to pass in a dataframe, and a file name to write, like 'out.txt'."
   ]
  },
  {
   "cell_type": "code",
   "execution_count": 4,
   "metadata": {},
   "outputs": [],
   "source": [
    "def write_top10_to_file(df,out_file):\n",
    "    with open(out_file,'w') as f:\n",
    "        f.write(df.head(10).to_string())\n",
    "    return"
   ]
  },
  {
   "cell_type": "markdown",
   "metadata": {},
   "source": [
    "###  This is the same sort function from Q2. You need to copy your solution here."
   ]
  },
  {
   "cell_type": "code",
   "execution_count": 5,
   "metadata": {},
   "outputs": [],
   "source": [
    "def sort_df (df,key):\n",
    "    new_df = df.sort_values(by=[key],ascending=False, ignore_index=True)\n",
    "    return new_df"
   ]
  },
  {
   "cell_type": "markdown",
   "metadata": {},
   "source": [
    "### The key idea of this function is to take a dataframe, aggregate based on the Score column, and in the process clean up the indexing (as there are now less rows). Finally you will want to sort the current dataframe using to sort function we created in the last exercise before returning the new dataframe."
   ]
  },
  {
   "cell_type": "code",
   "execution_count": 6,
   "metadata": {},
   "outputs": [],
   "source": [
    "def aggregate_scores(df, parent_id_name):\n",
    "    val = df.groupby(parent_id_name, as_index=False)\n",
    "    new_val=val.aggregate({'Score':'sum'})\n",
    "    agg_val = sort_df(new_val,'Score')\n",
    "    \n",
    "    return agg_val"
   ]
  },
  {
   "cell_type": "markdown",
   "metadata": {},
   "source": [
    "### Main Loop:\n",
    "* First read the Answers-Sorted.feather and Comments-Sorted.feather files into dataframes using the provided function.\n",
    "* Now get the aggregate_scores function working to generate a new dataframe containing answers or comments that combine scores based on the 'ParentId' or 'PostId' key, and return the newly sorted dataframe.\n",
    "* Now write out the two new dataframes -- Answers-Sum.feather and Comments-Sum.feather for later.\n",
    "* Finally, you need to call write_top10_to_file() for the the new dataframes. The output file name should be \"Answers-Sum-10.txt\" and Comments-Sum-10.txt\"  This will by our sanity check that you got the aggregate function correct. Make sure you use the output file names exactly as shown (case sensitive)."
   ]
  },
  {
   "cell_type": "code",
   "execution_count": 7,
   "metadata": {},
   "outputs": [],
   "source": [
    "\n",
    "def main():\n",
    "    #Read Ans-sum and Comments-sum to dataframes\n",
    "    answer_sort_df =arrow_to_df('Answers-Sorted.feather')\n",
    "    comments_sort_df =arrow_to_df('Comments-Sorted.feather')\n",
    "    \n",
    "    #Aggregating a new dataframe based on 'ParentId' or 'Postid'\n",
    "    agg_ans = aggregate_scores(answer_sort_df,'ParentId')\n",
    "    agg_comm = aggregate_scores(comments_sort_df, 'PostId')\n",
    "    \n",
    "    #Writing df of feather files\n",
    "    df_to_arrow('Answers-Sum.feather',agg_ans)\n",
    "    df_to_arrow('Comments-Sum.feather',agg_comm)\n",
    "\n",
    "    #Output files\n",
    "    write_top10_to_file(agg_ans,'Answers-Sum-10.txt')\n",
    "    write_top10_to_file(agg_comm,'Comments-Sum-10.txt')\n",
    "\n",
    "    return"
   ]
  },
  {
   "cell_type": "code",
   "execution_count": 8,
   "metadata": {},
   "outputs": [
    {
     "name": "stdout",
     "output_type": "stream",
     "text": [
      "[INFO]: Script completed with no errors\n"
     ]
    }
   ],
   "source": [
    "\n",
    "if __name__ == '__main__':\n",
    "    main()\n",
    "    \n",
    "    print ('[INFO]: Script completed with no errors')"
   ]
  }
 ],
 "metadata": {
  "kernelspec": {
   "display_name": "Python 3",
   "language": "python",
   "name": "python3"
  },
  "language_info": {
   "codemirror_mode": {
    "name": "ipython",
    "version": 3
   },
   "file_extension": ".py",
   "mimetype": "text/x-python",
   "name": "python",
   "nbconvert_exporter": "python",
   "pygments_lexer": "ipython3",
   "version": "3.8.5"
  }
 },
 "nbformat": 4,
 "nbformat_minor": 5
}
