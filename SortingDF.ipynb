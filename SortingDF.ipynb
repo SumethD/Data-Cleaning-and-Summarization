{
 "cells": [
  {
   "cell_type": "markdown",
   "metadata": {},
   "source": [
    "# Basic Sorting "
   ]
  },
  {
   "cell_type": "markdown",
   "metadata": {},
   "source": [
    "Now that we know how to work with the dataframes we have read in from the feather\n",
    "files, we want to build on our last problem. In this exercise, we want to use the\n",
    "answers and questions df files we built in the last exercise as well as the the\n",
    "comments feather file, and sort all three of them in descending sorted order using\n",
    "the Score column. Once we have the files, we will write them out to 3 new files\n",
    "called 'Questions-Sorted.feather', 'Answers-Sorted.feather', and 'Comments-Sorted.feather'. In addition we will write out only the Ids again to plain text so\n",
    "that they can be compared against a gold standard when assessed. These files will\n",
    "be 'Questions-Sorted.txt', 'Answers-Sorted.txt', and 'Comments-Sorted.txt'. Please\n",
    "*note* the names should be case-sensitive, exactly as shown above."
   ]
  },
  {
   "cell_type": "markdown",
   "metadata": {},
   "source": [
    "### Read a feather file and return a dataframe. This is already done for you. You just have to call it from main to convert a feather file into a dataframe."
   ]
  },
  {
   "cell_type": "code",
   "execution_count": 1,
   "metadata": {},
   "outputs": [],
   "source": [
    "import pyarrow.feather as feather\n",
    "import pandas as pd"
   ]
  },
  {
   "cell_type": "code",
   "execution_count": 2,
   "metadata": {},
   "outputs": [],
   "source": [
    "def arrow_to_df(input_file_name):\n",
    "    df = feather.read_feather(input_file_name)\n",
    "    return df"
   ]
  },
  {
   "cell_type": "markdown",
   "metadata": {},
   "source": [
    "### Write a feather file using a dataframe. This is done for you, you just need to call it."
   ]
  },
  {
   "cell_type": "code",
   "execution_count": 3,
   "metadata": {},
   "outputs": [],
   "source": [
    "def df_to_arrow(output_file_name, df):\n",
    "    feather.write_feather(df, output_file_name, compression='zstd')\n",
    "    return"
   ]
  },
  {
   "cell_type": "markdown",
   "metadata": {},
   "source": [
    "### This function will write the Ids out to a file from a dataframe. You simply need to pass in a dataframe, and a file name to write, like 'ids.txt'."
   ]
  },
  {
   "cell_type": "code",
   "execution_count": 4,
   "metadata": {},
   "outputs": [],
   "source": [
    "def write_ids_to_file(df,out_file):\n",
    "    with open(out_file,'w') as f:\n",
    "        int_arr = df['Score'].to_list() #changed id to score\n",
    "        str_arr = list(map(str,int_arr))\n",
    "        f.write('\\n'.join(str_arr))\n",
    "        # If you wish to enable debug and see the output, uncomment\n",
    "        # the the two lines below.\n",
    "        #print_str = ' '.join(str_arr)\n",
    "        #print ('{}:{}'.format(out_file, print_str))\n",
    "    return\n",
    "        "
   ]
  },
  {
   "cell_type": "markdown",
   "metadata": {},
   "source": [
    "### Sort a dataframe based on a key in descending order and return the sorted dataframe. Hint: the key is probably 'Score', and you should pay attention to keeping the index values for the rows correct. There is a parameter called ignore_index that may be helpful."
   ]
  },
  {
   "cell_type": "code",
   "execution_count": 5,
   "metadata": {},
   "outputs": [],
   "source": [
    "def sort_df (df,key):\n",
    "    new_df = df.sort_values(by=[key],ascending=False, ignore_index=True)\n",
    "    \n",
    "    return new_df"
   ]
  },
  {
   "cell_type": "markdown",
   "metadata": {},
   "source": [
    "### Main Loop:\n",
    "* First read the three feather files into a dataframe using the provided function.\n",
    "* Now get the sort_df function working to generate the three new dataframes containing Questions, Answers,  and Comments in sorted order as defined above.\n",
    "* Now write out the three new dataframes -- Answers-Sorted.feather, Questions-Sorted.feather, and Comments-Sorted.feather for later.\n",
    "* Finally, you need to call write_ids_to file() for the three new dataframes. The output file name should be \"Answers-Sorted.txt\" and Questions-Sorted.txt\" and \"Comments-Sorted.txt\". This will by our sanity check that you got the sort function correct. Make sure you use the output file names exactly as shown (case sensitive)."
   ]
  },
  {
   "cell_type": "code",
   "execution_count": 6,
   "metadata": {},
   "outputs": [],
   "source": [
    "\n",
    "def main():\n",
    "    \n",
    "    #Reading feather files into a dataframe\n",
    "    comments_df =arrow_to_df('Comments.feather')\n",
    "    ans_df =arrow_to_df('Answers.feather')\n",
    "    ques_df =arrow_to_df('Questions.feather')\n",
    "    \n",
    "    #Calling the sort function to sort comment, ans and ques df\n",
    "    new_comment_df=sort_df(comments_df,'Score')\n",
    "    new_asn_df=sort_df(ans_df,'Score')\n",
    "    new_ques_df=sort_df(ques_df,'Score')\n",
    "    \n",
    "    #Writing df for later \n",
    "    df_to_arrow('Answers-Sorted.feather',new_asn_df)\n",
    "    df_to_arrow('Questions-Sorted.feather',new_ques_df)\n",
    "    df_to_arrow('Comments-Sorted.feather',new_comment_df)\n",
    "    \n",
    "    #Output final files\n",
    "    write_ids_to_file(new_comment_df,'Comments-Sorted.txt')\n",
    "    write_ids_to_file(new_asn_df,'Answers-Sorted.txt')\n",
    "    write_ids_to_file(new_ques_df,'Questions-Sorted.txt')\n",
    "    \n",
    "    return"
   ]
  },
  {
   "cell_type": "code",
   "execution_count": 7,
   "metadata": {},
   "outputs": [
    {
     "name": "stdout",
     "output_type": "stream",
     "text": [
      "[INFO] Script completed with no errors.\n"
     ]
    }
   ],
   "source": [
    "\n",
    "if __name__ == '__main__':\n",
    "    main()\n",
    "    print ('[INFO] Script completed with no errors.')"
   ]
  }
 ],
 "metadata": {
  "kernelspec": {
   "display_name": "Python 3",
   "language": "python",
   "name": "python3"
  },
  "language_info": {
   "codemirror_mode": {
    "name": "ipython",
    "version": 3
   },
   "file_extension": ".py",
   "mimetype": "text/x-python",
   "name": "python",
   "nbconvert_exporter": "python",
   "pygments_lexer": "ipython3",
   "version": "3.8.5"
  }
 },
 "nbformat": 4,
 "nbformat_minor": 5
}
