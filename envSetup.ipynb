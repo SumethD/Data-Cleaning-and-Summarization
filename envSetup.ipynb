{
 "cells": [
  {
   "cell_type": "markdown",
   "id": "193c333c",
   "metadata": {
    "pycharm": {
     "name": "#%% md\n"
    }
   },
   "source": [
    "# Environment setup"
   ]
  },
  {
   "cell_type": "markdown",
   "metadata": {
    "pycharm": {
     "name": "#%% md\n"
    }
   },
   "source": [
    "Let's make sure our environment is setup correctly and save a requirements.txt file to prove it."
   ]
  },
  {
   "cell_type": "code",
   "execution_count": 1,
   "metadata": {
    "pycharm": {
     "name": "#%%\n"
    }
   },
   "outputs": [
    {
     "name": "stdout",
     "output_type": "stream",
     "text": [
      "3.8.5\n"
     ]
    }
   ],
   "source": [
    "# This should show python 3.8.x. If not, stop now \n",
    "# and get your environment right.\n",
    "\n",
    "from platform import python_version\n",
    "\n",
    "print(python_version())"
   ]
  },
  {
   "cell_type": "code",
   "execution_count": 2,
   "metadata": {
    "pycharm": {
     "name": "#%%\n"
    }
   },
   "outputs": [
    {
     "name": "stdout",
     "output_type": "stream",
     "text": [
      "base\n"
     ]
    }
   ],
   "source": [
    "import os\n",
    "\n",
    "print(os.environ['CONDA_DEFAULT_ENV'])"
   ]
  },
  {
   "cell_type": "code",
   "execution_count": 3,
   "metadata": {
    "pycharm": {
     "name": "#%%\n"
    }
   },
   "outputs": [
    {
     "name": "stdout",
     "output_type": "stream",
     "text": [
      "numpy is installed.\n",
      "pandas is installed.\n",
      "pyarrow is installed.\n"
     ]
    }
   ],
   "source": [
    "# These should be the only libraries you need in your environment.\n",
    "# pandas, numpy, pyarrow\n",
    "\n",
    "# % pip install numpy pandas pyarrow\n",
    "\n",
    "import importlib.util\n",
    "\n",
    "package_names = ['numpy', 'pandas', 'pyarrow']\n",
    "for pkg in package_names:\n",
    "    spec = importlib.util.find_spec(pkg)\n",
    "    if spec is None:\n",
    "        print('{} is not installed.'.format(pkg))\n",
    "        print('Installing {}'.format(pkg))\n",
    "        !{sys.executable} -m pip install pkg\n",
    "    else:\n",
    "        print('{} is installed.'.format(pkg))"
   ]
  },
  {
   "cell_type": "code",
   "execution_count": 4,
   "metadata": {
    "pycharm": {
     "name": "#%%\n"
    }
   },
   "outputs": [],
   "source": [
    "# This will be a silent operation. You will see no output.\n",
    "# Instead, the output is saved into a file called 'requirements.txt'\n",
    "# in your working directory, which you should submit with your\n",
    "# assignment to show that everything is OK.\n",
    "\n",
    "!pip freeze > requirements.txt"
   ]
  },
  {
   "cell_type": "markdown",
   "id": "3b0a6c5d",
   "metadata": {},
   "source": [
    "### Read a feather file and return a dataframe. This is already done for you. You just have to call it from main to convert a feather file into a dataframe."
   ]
  },
  {
   "cell_type": "code",
   "execution_count": null,
   "id": "4bb6da3e",
   "metadata": {},
   "outputs": [],
   "source": [
    "import pyarrow.feather as feather\n",
    "import pandas as pd\n"
   ]
  },
  {
   "cell_type": "code",
   "execution_count": null,
   "id": "6494220e",
   "metadata": {},
   "outputs": [],
   "source": [
    "def arrow_to_df(input_file_name):\n",
    "    df = feather.read_feather(input_file_name)\n",
    "    return df"
   ]
  },
  {
   "cell_type": "markdown",
   "id": "8eb910de",
   "metadata": {},
   "source": [
    "### Write an feather file using a dataframe."
   ]
  },
  {
   "cell_type": "code",
   "execution_count": null,
   "id": "a9527d30",
   "metadata": {},
   "outputs": [],
   "source": [
    "def df_to_arrow(output_file_name, df):\n",
    "    feather.write_feather(df, output_file_name, compression='zstd')\n",
    "    return"
   ]
  },
  {
   "cell_type": "code",
   "execution_count": null,
   "id": "5467c56f",
   "metadata": {},
   "outputs": [],
   "source": [
    "def write_ids_to_file(df,out_file):\n",
    "    with open(out_file,'w') as f:\n",
    "        int_arr = df['Id'].to_list() #changed Id to  Score\n",
    "        str_arr = list(map(str,int_arr))\n",
    "        f.write('\\n'.join(str_arr))\n",
    "        # If you wish to enable debug and see the output, uncomment\n",
    "        # the the two lines below.\n",
    "        #print_str = ' '.join(str_arr)\n",
    "        #print ('{}:{}'.format(out_file, print_str))\n",
    "    return"
   ]
  },
  {
   "cell_type": "markdown",
   "id": "beea60eb",
   "metadata": {},
   "source": [
    "### Split the Posts dataframe into questions and answers based on the value of the PostTypeId, where a question = 1 and and  answer = 2. You should return 2 new dataframes, one containing only questions and the other containing only answers."
   ]
  },
  {
   "cell_type": "code",
   "execution_count": null,
   "id": "a7172bb2",
   "metadata": {},
   "outputs": [],
   "source": [
    "def split_df(df):\n",
    "    ans_arr =df[df['PostTypeId'] ==2]\n",
    "    ques_arr =df[df['PostTypeId'] ==1]\n",
    "    df_to_arrow('Answers.feather',ans_arr)\n",
    "    df_to_arrow('Questions.feather',ques_arr)\n",
    "    return ans_arr,ques_arr"
   ]
  },
  {
   "cell_type": "markdown",
   "id": "b3fdda6d",
   "metadata": {},
   "source": [
    "### Main Loop:\n",
    "* First read the Posts.feather file into a dataframe using the provided function.\n",
    "* Now get the split_df function working to generate the two new dataframes containing questions and answers.\n",
    "* Now write out the two new dataframes -- Answers.feather and Questions.feather for later.\n",
    "* Finally, you need to call write_ids_to file() for answers ands questions. The output file name should be \"Answer-Ids.txt\" and Question-Ids.txt\"  This will by our sanity check that you got the split function correct. Make sure you use the output file names exactly as shown (case sensitive)."
   ]
  },
  {
   "cell_type": "code",
   "execution_count": null,
   "id": "9745aa57",
   "metadata": {},
   "outputs": [],
   "source": [
    "def main():\n",
    "    #Reading post.feather file\n",
    "    posts_df =arrow_to_df('Posts.feather')\n",
    "    \n",
    "    #using the split function\n",
    "    ans,ques =split_df(posts_df)\n",
    "    \n",
    "    write_ids_to_file(ans,'Answer-Ids.txt')\n",
    "    write_ids_to_file(ques,'Question-Ids.txt')\n",
    "    \n",
    "    \n",
    "    return"
   ]
  },
  {
   "cell_type": "code",
   "execution_count": null,
   "id": "07f2bb5b",
   "metadata": {},
   "outputs": [],
   "source": [
    "# Here is the definition of the \"main\" loop execution function shown\n",
    "# in Lectorial 2\n",
    "if __name__ == '__main__':\n",
    "    main()\n",
    "    print ('[INFO] Script completed with no errors.')"
   ]
  }
 ],
 "metadata": {
  "kernelspec": {
   "display_name": "Python 3",
   "language": "python",
   "name": "python3"
  },
  "language_info": {
   "codemirror_mode": {
    "name": "ipython",
    "version": 3
   },
   "file_extension": ".py",
   "mimetype": "text/x-python",
   "name": "python",
   "nbconvert_exporter": "python",
   "pygments_lexer": "ipython3",
   "version": "3.8.5"
  }
 },
 "nbformat": 4,
 "nbformat_minor": 5
}
